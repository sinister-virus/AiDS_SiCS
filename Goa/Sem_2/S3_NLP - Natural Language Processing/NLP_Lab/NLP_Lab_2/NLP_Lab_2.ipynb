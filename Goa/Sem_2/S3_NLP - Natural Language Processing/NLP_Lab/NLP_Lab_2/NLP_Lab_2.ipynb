{
  "nbformat": 4,
  "nbformat_minor": 0,
  "metadata": {
    "colab": {
      "provenance": []
    },
    "kernelspec": {
      "name": "python3",
      "display_name": "Python 3"
    },
    "language_info": {
      "name": "python"
    }
  },
  "cells": [
    {
      "cell_type": "code",
      "execution_count": 1,
      "metadata": {
        "id": "x89CNu9u4bVG"
      },
      "outputs": [],
      "source": [
        "import re\n",
        "\n",
        "def tokenize_and_detect_sentences(text):\n",
        "    # Handle abbreviations\n",
        "    text = re.sub(r\"([A-Z]\\.)+\", lambda m: m.group(0).replace(\".\", \"\"), text)\n",
        "\n",
        "    # Split text into potential sentences\n",
        "    sentences = re.split(r'(?<!\\w\\.\\w.)(?<![A-Z][A-Z])(?<=\\.|\\?|\\!)', text)\n",
        "\n",
        "    # Tokenize words in each sentence\n",
        "    tokenized_sentences = []\n",
        "    for sentence in sentences:\n",
        "        words = re.findall(r'\\w+|[^\\s\\w]', sentence)\n",
        "        tokenized_sentences.append(words)\n",
        "\n",
        "    return tokenized_sentences"
      ]
    },
    {
      "cell_type": "code",
      "source": [
        "# Example usage\n",
        "text = \"Explore the universe today! What's beyond our galaxy? The U.S.A. and Canada are in North America.\"\n",
        "tokenized_sentences = tokenize_and_detect_sentences(text)\n",
        "\n",
        "for sentence in tokenized_sentences:\n",
        "    print(\" \".join(sentence))"
      ],
      "metadata": {
        "colab": {
          "base_uri": "https://localhost:8080/"
        },
        "id": "9NkQU77Y4uw4",
        "outputId": "312e29fd-eb6f-4477-9f09-2ad50ef2ce3e"
      },
      "execution_count": 3,
      "outputs": [
        {
          "output_type": "stream",
          "name": "stdout",
          "text": [
            "Explore the universe today !\n",
            "What ' s beyond our galaxy ?\n",
            "The USA and Canada are in North America .\n",
            "\n"
          ]
        }
      ]
    }
  ]
}