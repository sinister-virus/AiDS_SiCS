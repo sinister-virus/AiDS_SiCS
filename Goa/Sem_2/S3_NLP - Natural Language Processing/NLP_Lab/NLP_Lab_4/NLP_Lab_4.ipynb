{
  "nbformat": 4,
  "nbformat_minor": 0,
  "metadata": {
    "colab": {
      "provenance": []
    },
    "kernelspec": {
      "name": "python3",
      "display_name": "Python 3"
    },
    "language_info": {
      "name": "python"
    }
  },
  "cells": [
    {
      "cell_type": "code",
      "source": [
        "class CYKParser:\n",
        "    def __init__(self):\n",
        "        \"\"\"\n",
        "        Initialize CYK Parser with comprehensive grammar rules\n",
        "        \"\"\"\n",
        "        self.grammar = {\n",
        "            'S': [['NP', 'VP'], ['VP']],\n",
        "            'NP': [['Det', 'N'], ['Proper'], ['N'], ['Det', 'Adj', 'N']],\n",
        "            'VP': [['V'], ['V', 'NP'], ['V', 'Adv'], ['V', 'NP', 'Adv']],\n",
        "            'Det': [['the'], ['a'], ['an'], ['this'], ['that']],\n",
        "            'N': [['dog'], ['cat'], ['mouse'], ['man'], ['ball'], ['book'], ['tree'], ['house']],\n",
        "            'Proper': [['John'], ['Mary'], ['Tom'], ['Sarah'], ['Emma'], ['David'], ['Anna']],\n",
        "            'V': [['chased'], ['saw'], ['liked'], ['ran'], ['jumped'], ['read'], ['wrote'], ['played']],\n",
        "            'Adv': [['quickly'], ['slowly'], ['carefully'], ['happily'], ['quietly']],\n",
        "            'Adj': [['big'], ['small'], ['red'], ['blue'], ['happy'], ['sad']]\n",
        "        }\n",
        "\n",
        "    def parse(self, sentence):\n",
        "        \"\"\"\n",
        "        CYK Parsing Algorithm Implementation\n",
        "        \"\"\"\n",
        "        if isinstance(sentence, str):\n",
        "            sentence = sentence.split()\n",
        "        n = len(sentence)\n",
        "        table = [[set() for _ in range(n-j)] for j in range(n)]\n",
        "        derivation_table = [[[] for _ in range(n-j)] for j in range(n)]\n",
        "        for i, word in enumerate(sentence):\n",
        "            for nt, productions in self.grammar.items():\n",
        "                for prod in productions:\n",
        "                    if len(prod) == 1 and prod[0] == word:\n",
        "                        table[0][i].add(nt)\n",
        "                        derivation_table[0][i].append((nt, [word]))\n",
        "        for j in range(1, n):\n",
        "            for i in range(n-j):\n",
        "                for k in range(j):\n",
        "                    for nt, productions in self.grammar.items():\n",
        "                        for prod in productions:\n",
        "                            if len(prod) == 2:\n",
        "                                left, right = prod\n",
        "                                if (left in table[j-k-1][i] and right in table[k][i+j-k]):\n",
        "                                    table[j][i].add(nt)\n",
        "                                    derivation_path = [(left, table[j-k-1][i]), (right, table[k][i+j-k])]\n",
        "                                    derivation_table[j][i].append((nt, derivation_path))\n",
        "        self._print_parse_table(table, sentence)\n",
        "        is_valid = 'S' in table[n-1][0]\n",
        "        return is_valid, table, derivation_table\n",
        "\n",
        "    def _print_parse_table(self, table, sentence):\n",
        "        \"\"\"\n",
        "        Visualize the CYK parsing table\n",
        "        \"\"\"\n",
        "        print(\"\\n--- CYK Parsing Table ---\")\n",
        "        print(\"Input Sentence:\", \" \".join(sentence))\n",
        "        for i, row in enumerate(table):\n",
        "            print(f\"\\nDiagonal {i}:\")\n",
        "            for j, cell in enumerate(row):\n",
        "                print(f\"  Cell [{i},{j}]: {cell}\")\n",
        "\n",
        "    def parse_manual_sentence(self, sentence):\n",
        "        \"\"\"\n",
        "        Parse a manually provided sentence and display results\n",
        "        \"\"\"\n",
        "        if not sentence.strip():\n",
        "            print(\"No sentence provided.\")\n",
        "            return\n",
        "        print(f\"Sentence: '{sentence}'\")\n",
        "        print(f\"\\n=== Parsing Sentence ===\")\n",
        "        is_valid, table, _ = self.parse(sentence)\n",
        "        print(f\"\\nSentence: '{sentence}'\")\n",
        "        print(f\"Valid Parse: {is_valid}\")"
      ],
      "metadata": {
        "id": "t25eeeaSJBxV"
      },
      "execution_count": 66,
      "outputs": []
    },
    {
      "cell_type": "code",
      "source": [
        "def main(sentence):\n",
        "    \"\"\"\n",
        "    Parse a single sentence using the CYK Parser\n",
        "    \"\"\"\n",
        "    parser = CYKParser()\n",
        "    parser.parse_manual_sentence(sentence)"
      ],
      "metadata": {
        "id": "LncLJZUsJFJt"
      },
      "execution_count": 67,
      "outputs": []
    },
    {
      "cell_type": "code",
      "source": [
        "def test_sen(z=None):\n",
        "    \"\"\"\n",
        "    Test a sentence from test_cases, auto-incrementing the index each call\n",
        "    \"\"\"\n",
        "    # Initialize counter as function attribute if not set\n",
        "    if not hasattr(test_sen, 'counter'):\n",
        "        test_sen.counter = 0\n",
        "\n",
        "    # Use provided z if given, otherwise use counter\n",
        "    index = z if z is not None else test_sen.counter\n",
        "\n",
        "    if index < len(test_cases):\n",
        "        print(f\"Test Case {index}\")\n",
        "        main(test_cases[index])\n",
        "        # Auto-increment counter for next call\n",
        "        test_sen.counter = index + 1\n",
        "    else:\n",
        "        print(\"No more test cases to process.\")"
      ],
      "metadata": {
        "id": "C-gDfLl_JHaM"
      },
      "execution_count": 68,
      "outputs": []
    },
    {
      "cell_type": "code",
      "source": [
        "test_cases = [\n",
        "    \"the dog chased the cat\",\n",
        "    \"John saw a mouse\",\n",
        "    \"Mary liked the dog\",\n",
        "    \"Tom ran quickly\",\n",
        "    \"a cat chased\",\n",
        "    \"the mouse John\",\n",
        "    \"the big dog ran quickly\",\n",
        "    \"John wrote a book carefully\"\n",
        "]"
      ],
      "metadata": {
        "id": "ycewmkJbJJE1"
      },
      "execution_count": 69,
      "outputs": []
    },
    {
      "cell_type": "code",
      "source": [
        "test_sen()"
      ],
      "metadata": {
        "colab": {
          "base_uri": "https://localhost:8080/"
        },
        "id": "7_JqxG7xJJ8V",
        "outputId": "70ec653f-e87f-4bb0-e673-91d02712b33c"
      },
      "execution_count": 70,
      "outputs": [
        {
          "output_type": "stream",
          "name": "stdout",
          "text": [
            "Test Case 0\n",
            "Sentence: 'the dog chased the cat'\n",
            "\n",
            "=== Parsing Sentence ===\n",
            "\n",
            "--- CYK Parsing Table ---\n",
            "Input Sentence: the dog chased the cat\n",
            "\n",
            "Diagonal 0:\n",
            "  Cell [0,0]: {'Det'}\n",
            "  Cell [0,1]: {'N'}\n",
            "  Cell [0,2]: {'V'}\n",
            "  Cell [0,3]: {'Det'}\n",
            "  Cell [0,4]: {'N'}\n",
            "\n",
            "Diagonal 1:\n",
            "  Cell [1,0]: {'NP'}\n",
            "  Cell [1,1]: set()\n",
            "  Cell [1,2]: set()\n",
            "  Cell [1,3]: {'NP'}\n",
            "\n",
            "Diagonal 2:\n",
            "  Cell [2,0]: set()\n",
            "  Cell [2,1]: set()\n",
            "  Cell [2,2]: {'VP'}\n",
            "\n",
            "Diagonal 3:\n",
            "  Cell [3,0]: set()\n",
            "  Cell [3,1]: set()\n",
            "\n",
            "Diagonal 4:\n",
            "  Cell [4,0]: {'S'}\n",
            "\n",
            "Sentence: 'the dog chased the cat'\n",
            "Valid Parse: True\n"
          ]
        }
      ]
    },
    {
      "cell_type": "code",
      "source": [
        "test_sen()"
      ],
      "metadata": {
        "colab": {
          "base_uri": "https://localhost:8080/"
        },
        "id": "dc7nE8VQJVqV",
        "outputId": "16bbe92b-b889-4a3b-bdf3-df857f5abc2f"
      },
      "execution_count": 71,
      "outputs": [
        {
          "output_type": "stream",
          "name": "stdout",
          "text": [
            "Test Case 1\n",
            "Sentence: 'John saw a mouse'\n",
            "\n",
            "=== Parsing Sentence ===\n",
            "\n",
            "--- CYK Parsing Table ---\n",
            "Input Sentence: John saw a mouse\n",
            "\n",
            "Diagonal 0:\n",
            "  Cell [0,0]: {'Proper'}\n",
            "  Cell [0,1]: {'V'}\n",
            "  Cell [0,2]: {'Det'}\n",
            "  Cell [0,3]: {'N'}\n",
            "\n",
            "Diagonal 1:\n",
            "  Cell [1,0]: set()\n",
            "  Cell [1,1]: set()\n",
            "  Cell [1,2]: {'NP'}\n",
            "\n",
            "Diagonal 2:\n",
            "  Cell [2,0]: set()\n",
            "  Cell [2,1]: {'VP'}\n",
            "\n",
            "Diagonal 3:\n",
            "  Cell [3,0]: set()\n",
            "\n",
            "Sentence: 'John saw a mouse'\n",
            "Valid Parse: False\n"
          ]
        }
      ]
    },
    {
      "cell_type": "code",
      "source": [
        "test_sen()"
      ],
      "metadata": {
        "colab": {
          "base_uri": "https://localhost:8080/"
        },
        "id": "wrgaf1YwJaPl",
        "outputId": "0f8d3322-69bf-4575-87d6-99177ae72a31"
      },
      "execution_count": 72,
      "outputs": [
        {
          "output_type": "stream",
          "name": "stdout",
          "text": [
            "Test Case 2\n",
            "Sentence: 'Mary liked the dog'\n",
            "\n",
            "=== Parsing Sentence ===\n",
            "\n",
            "--- CYK Parsing Table ---\n",
            "Input Sentence: Mary liked the dog\n",
            "\n",
            "Diagonal 0:\n",
            "  Cell [0,0]: {'Proper'}\n",
            "  Cell [0,1]: {'V'}\n",
            "  Cell [0,2]: {'Det'}\n",
            "  Cell [0,3]: {'N'}\n",
            "\n",
            "Diagonal 1:\n",
            "  Cell [1,0]: set()\n",
            "  Cell [1,1]: set()\n",
            "  Cell [1,2]: {'NP'}\n",
            "\n",
            "Diagonal 2:\n",
            "  Cell [2,0]: set()\n",
            "  Cell [2,1]: {'VP'}\n",
            "\n",
            "Diagonal 3:\n",
            "  Cell [3,0]: set()\n",
            "\n",
            "Sentence: 'Mary liked the dog'\n",
            "Valid Parse: False\n"
          ]
        }
      ]
    },
    {
      "cell_type": "code",
      "source": [
        "test_sen()"
      ],
      "metadata": {
        "colab": {
          "base_uri": "https://localhost:8080/"
        },
        "id": "ZNoKHbSqJaMM",
        "outputId": "924d98b2-b618-4a5f-aa93-1cc9add1d618"
      },
      "execution_count": 73,
      "outputs": [
        {
          "output_type": "stream",
          "name": "stdout",
          "text": [
            "Test Case 3\n",
            "Sentence: 'Tom ran quickly'\n",
            "\n",
            "=== Parsing Sentence ===\n",
            "\n",
            "--- CYK Parsing Table ---\n",
            "Input Sentence: Tom ran quickly\n",
            "\n",
            "Diagonal 0:\n",
            "  Cell [0,0]: {'Proper'}\n",
            "  Cell [0,1]: {'V'}\n",
            "  Cell [0,2]: {'Adv'}\n",
            "\n",
            "Diagonal 1:\n",
            "  Cell [1,0]: set()\n",
            "  Cell [1,1]: {'VP'}\n",
            "\n",
            "Diagonal 2:\n",
            "  Cell [2,0]: set()\n",
            "\n",
            "Sentence: 'Tom ran quickly'\n",
            "Valid Parse: False\n"
          ]
        }
      ]
    },
    {
      "cell_type": "code",
      "source": [
        "test_sen()"
      ],
      "metadata": {
        "colab": {
          "base_uri": "https://localhost:8080/"
        },
        "id": "mpre1NB8JaG8",
        "outputId": "fa91b1fd-5e78-4389-9b51-8f5637a77e26"
      },
      "execution_count": 74,
      "outputs": [
        {
          "output_type": "stream",
          "name": "stdout",
          "text": [
            "Test Case 4\n",
            "Sentence: 'a cat chased'\n",
            "\n",
            "=== Parsing Sentence ===\n",
            "\n",
            "--- CYK Parsing Table ---\n",
            "Input Sentence: a cat chased\n",
            "\n",
            "Diagonal 0:\n",
            "  Cell [0,0]: {'Det'}\n",
            "  Cell [0,1]: {'N'}\n",
            "  Cell [0,2]: {'V'}\n",
            "\n",
            "Diagonal 1:\n",
            "  Cell [1,0]: {'NP'}\n",
            "  Cell [1,1]: set()\n",
            "\n",
            "Diagonal 2:\n",
            "  Cell [2,0]: set()\n",
            "\n",
            "Sentence: 'a cat chased'\n",
            "Valid Parse: False\n"
          ]
        }
      ]
    },
    {
      "cell_type": "code",
      "source": [
        "test_sen()"
      ],
      "metadata": {
        "colab": {
          "base_uri": "https://localhost:8080/"
        },
        "id": "nwvqulyCJaAM",
        "outputId": "db12bde8-6233-4df5-e213-2b6c67766b35"
      },
      "execution_count": 75,
      "outputs": [
        {
          "output_type": "stream",
          "name": "stdout",
          "text": [
            "Test Case 5\n",
            "Sentence: 'the mouse John'\n",
            "\n",
            "=== Parsing Sentence ===\n",
            "\n",
            "--- CYK Parsing Table ---\n",
            "Input Sentence: the mouse John\n",
            "\n",
            "Diagonal 0:\n",
            "  Cell [0,0]: {'Det'}\n",
            "  Cell [0,1]: {'N'}\n",
            "  Cell [0,2]: {'Proper'}\n",
            "\n",
            "Diagonal 1:\n",
            "  Cell [1,0]: {'NP'}\n",
            "  Cell [1,1]: set()\n",
            "\n",
            "Diagonal 2:\n",
            "  Cell [2,0]: set()\n",
            "\n",
            "Sentence: 'the mouse John'\n",
            "Valid Parse: False\n"
          ]
        }
      ]
    },
    {
      "cell_type": "code",
      "source": [
        "test_sen()"
      ],
      "metadata": {
        "colab": {
          "base_uri": "https://localhost:8080/"
        },
        "id": "zYadkTMZJckE",
        "outputId": "280dc793-57eb-48a9-c053-3ca478eeff9c"
      },
      "execution_count": 76,
      "outputs": [
        {
          "output_type": "stream",
          "name": "stdout",
          "text": [
            "Test Case 6\n",
            "Sentence: 'the big dog ran quickly'\n",
            "\n",
            "=== Parsing Sentence ===\n",
            "\n",
            "--- CYK Parsing Table ---\n",
            "Input Sentence: the big dog ran quickly\n",
            "\n",
            "Diagonal 0:\n",
            "  Cell [0,0]: {'Det'}\n",
            "  Cell [0,1]: {'Adj'}\n",
            "  Cell [0,2]: {'N'}\n",
            "  Cell [0,3]: {'V'}\n",
            "  Cell [0,4]: {'Adv'}\n",
            "\n",
            "Diagonal 1:\n",
            "  Cell [1,0]: set()\n",
            "  Cell [1,1]: set()\n",
            "  Cell [1,2]: set()\n",
            "  Cell [1,3]: {'VP'}\n",
            "\n",
            "Diagonal 2:\n",
            "  Cell [2,0]: set()\n",
            "  Cell [2,1]: set()\n",
            "  Cell [2,2]: set()\n",
            "\n",
            "Diagonal 3:\n",
            "  Cell [3,0]: set()\n",
            "  Cell [3,1]: set()\n",
            "\n",
            "Diagonal 4:\n",
            "  Cell [4,0]: set()\n",
            "\n",
            "Sentence: 'the big dog ran quickly'\n",
            "Valid Parse: False\n"
          ]
        }
      ]
    },
    {
      "cell_type": "code",
      "source": [
        "test_sen()"
      ],
      "metadata": {
        "colab": {
          "base_uri": "https://localhost:8080/"
        },
        "id": "lftdU71NJfYt",
        "outputId": "4d70e278-d4f2-4b94-b786-94facdd15280"
      },
      "execution_count": 77,
      "outputs": [
        {
          "output_type": "stream",
          "name": "stdout",
          "text": [
            "Test Case 7\n",
            "Sentence: 'John wrote a book carefully'\n",
            "\n",
            "=== Parsing Sentence ===\n",
            "\n",
            "--- CYK Parsing Table ---\n",
            "Input Sentence: John wrote a book carefully\n",
            "\n",
            "Diagonal 0:\n",
            "  Cell [0,0]: {'Proper'}\n",
            "  Cell [0,1]: {'V'}\n",
            "  Cell [0,2]: {'Det'}\n",
            "  Cell [0,3]: {'N'}\n",
            "  Cell [0,4]: {'Adv'}\n",
            "\n",
            "Diagonal 1:\n",
            "  Cell [1,0]: set()\n",
            "  Cell [1,1]: set()\n",
            "  Cell [1,2]: {'NP'}\n",
            "  Cell [1,3]: set()\n",
            "\n",
            "Diagonal 2:\n",
            "  Cell [2,0]: set()\n",
            "  Cell [2,1]: {'VP'}\n",
            "  Cell [2,2]: set()\n",
            "\n",
            "Diagonal 3:\n",
            "  Cell [3,0]: set()\n",
            "  Cell [3,1]: set()\n",
            "\n",
            "Diagonal 4:\n",
            "  Cell [4,0]: set()\n",
            "\n",
            "Sentence: 'John wrote a book carefully'\n",
            "Valid Parse: False\n"
          ]
        }
      ]
    },
    {
      "cell_type": "code",
      "source": [
        "test_sen()"
      ],
      "metadata": {
        "colab": {
          "base_uri": "https://localhost:8080/"
        },
        "id": "cYzVYTI0JhFs",
        "outputId": "dfcb532c-e80b-490e-baa2-a00fcce2117b"
      },
      "execution_count": 78,
      "outputs": [
        {
          "output_type": "stream",
          "name": "stdout",
          "text": [
            "No more test cases to process.\n"
          ]
        }
      ]
    }
  ]
}