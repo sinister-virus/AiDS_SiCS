{
  "nbformat": 4,
  "nbformat_minor": 0,
  "metadata": {
    "colab": {
      "provenance": []
    },
    "kernelspec": {
      "name": "python3",
      "display_name": "Python 3"
    },
    "language_info": {
      "name": "python"
    }
  },
  "cells": [
    {
      "cell_type": "code",
      "source": [
        "import logging\n",
        "import sys\n",
        "import traceback\n",
        "import re\n",
        "import nltk\n",
        "\n",
        "nltk.download('punkt_tab')\n",
        "nltk.download('averaged_perceptron_tagger_eng')\n",
        "nltk.download('universal_tagset')\n",
        "nltk.download('brown')"
      ],
      "metadata": {
        "colab": {
          "base_uri": "https://localhost:8080/"
        },
        "id": "kDdDic2A9vNQ",
        "outputId": "f09e0383-f2da-44cc-f3ef-443530d2dc57"
      },
      "execution_count": 14,
      "outputs": [
        {
          "output_type": "stream",
          "name": "stderr",
          "text": [
            "[nltk_data] Downloading package punkt_tab to /root/nltk_data...\n",
            "[nltk_data]   Package punkt_tab is already up-to-date!\n",
            "[nltk_data] Downloading package averaged_perceptron_tagger_eng to\n",
            "[nltk_data]     /root/nltk_data...\n",
            "[nltk_data]   Package averaged_perceptron_tagger_eng is already up-to-\n",
            "[nltk_data]       date!\n",
            "[nltk_data] Downloading package universal_tagset to /root/nltk_data...\n",
            "[nltk_data]   Package universal_tagset is already up-to-date!\n",
            "[nltk_data] Downloading package brown to /root/nltk_data...\n",
            "[nltk_data]   Package brown is already up-to-date!\n"
          ]
        },
        {
          "output_type": "execute_result",
          "data": {
            "text/plain": [
              "True"
            ]
          },
          "metadata": {},
          "execution_count": 14
        }
      ]
    },
    {
      "cell_type": "code",
      "source": [
        "# Configure comprehensive logging\n",
        "logging.basicConfig(\n",
        "    level=logging.DEBUG,\n",
        "    format='%(asctime)s - %(levelname)s: %(message)s',\n",
        "    handlers=[\n",
        "        logging.FileHandler('pos_tagger_log.txt'),\n",
        "        logging.StreamHandler(sys.stdout)\n",
        "    ]\n",
        ")\n",
        "\n",
        "class AdvancedPOSTagger:\n",
        "    def __init__(self):\n",
        "        \"\"\"\n",
        "        Initialize POS Tagger with comprehensive logging and error handling\n",
        "        \"\"\"\n",
        "        self.logger = logging.getLogger(self.__class__.__name__)\n",
        "        self.setup_nltk_resources()\n",
        "\n",
        "    def setup_nltk_resources(self):\n",
        "        \"\"\"\n",
        "        Attempt to download and setup NLTK resources with detailed error handling\n",
        "        \"\"\"\n",
        "        try:\n",
        "            self.logger.info(\"Downloading NLTK Resources...\")\n",
        "\n",
        "            # List of required NLTK downloads\n",
        "            nltk_resources = [\n",
        "                'punkt',\n",
        "                'averaged_perceptron_tagger',\n",
        "                'universal_tagset',\n",
        "                'brown'\n",
        "            ]\n",
        "\n",
        "            for resource in nltk_resources:\n",
        "                try:\n",
        "                    nltk.download(resource, quiet=True)\n",
        "                    self.logger.info(f\"Successfully downloaded {resource}\")\n",
        "                except Exception as download_error:\n",
        "                    self.logger.error(f\"Failed to download {resource}: {download_error}\")\n",
        "\n",
        "            self.logger.info(\"NLTK Resource Setup Complete\")\n",
        "\n",
        "        except Exception as e:\n",
        "            self.logger.critical(f\"Critical Error in NLTK Setup: {e}\")\n",
        "            traceback.print_exc()\n",
        "            sys.exit(1)\n",
        "\n",
        "    def rule_based_pos_tagger(self, sentence):\n",
        "        \"\"\"\n",
        "        Advanced Rule-Based POS Tagging with detailed logging\n",
        "        \"\"\"\n",
        "        try:\n",
        "            self.logger.info(f\"Applying Rule-Based POS Tagging to: {sentence}\")\n",
        "\n",
        "            # Enhanced Rule Sets\n",
        "            rules = {\n",
        "                # Suffix-based Rules\n",
        "                'Noun Suffixes': {\n",
        "                    'ness': 'NOUN',\n",
        "                    'ment': 'NOUN',\n",
        "                    'ship': 'NOUN'\n",
        "                },\n",
        "                'Verb Suffixes': {\n",
        "                    'ize': 'VERB',\n",
        "                    'ate': 'VERB',\n",
        "                    'ify': 'VERB'\n",
        "                },\n",
        "                'Adjective Suffixes': {\n",
        "                    'able': 'ADJ',\n",
        "                    'ible': 'ADJ',\n",
        "                    'ous': 'ADJ'\n",
        "                },\n",
        "                'Adverb Suffixes': {\n",
        "                    'ly': 'ADV'\n",
        "                }\n",
        "            }\n",
        "\n",
        "            # Tokenize sentence\n",
        "            tokens = nltk.word_tokenize(sentence)\n",
        "            tagged_tokens = []\n",
        "\n",
        "            for token in tokens:\n",
        "                # Default to NOUN\n",
        "                tag = 'NOUN'\n",
        "\n",
        "                # Check suffix rules\n",
        "                for category, suffix_rules in rules.items():\n",
        "                    for suffix, pos_tag in suffix_rules.items():\n",
        "                        if token.lower().endswith(suffix):\n",
        "                            tag = pos_tag\n",
        "                            self.logger.debug(f\"Applied {category} rule: {token} -> {tag}\")\n",
        "                            break\n",
        "\n",
        "                # Context-based rules\n",
        "                if token.istitle():\n",
        "                    tag = 'PROPN'  # Proper Noun\n",
        "                elif token.lower() in ['the', 'a', 'an']:\n",
        "                    tag = 'DET'  # Determiner\n",
        "                elif token.isdigit():\n",
        "                    tag = 'NUM'  # Number\n",
        "\n",
        "                tagged_tokens.append((token, tag))\n",
        "\n",
        "            self.logger.info(\"Rule-Based Tagging Completed\")\n",
        "            return tagged_tokens\n",
        "\n",
        "        except Exception as e:\n",
        "            self.logger.error(f\"Error in Rule-Based Tagging: {e}\")\n",
        "            traceback.print_exc()\n",
        "            return []\n",
        "\n",
        "    def stochastic_pos_tagger(self, sentence):\n",
        "        \"\"\"\n",
        "        Stochastic POS Tagging using NLTK's Advanced Tagger\n",
        "        \"\"\"\n",
        "        try:\n",
        "            self.logger.info(f\"Applying Stochastic POS Tagging to: {sentence}\")\n",
        "\n",
        "            # Tokenize sentence\n",
        "            tokens = nltk.word_tokenize(sentence)\n",
        "\n",
        "            # Use NLTK's default tagger\n",
        "            tagged_tokens = nltk.pos_tag(tokens)\n",
        "\n",
        "            self.logger.info(\"Stochastic Tagging Completed\")\n",
        "            return tagged_tokens\n",
        "\n",
        "        except Exception as e:\n",
        "            self.logger.error(f\"Error in Stochastic Tagging: {e}\")\n",
        "            traceback.print_exc()\n",
        "            return []\n",
        "\n",
        "    def compare_taggers(self, sentence):\n",
        "        \"\"\"\n",
        "        Compare Rule-Based and Stochastic Taggers\n",
        "        \"\"\"\n",
        "        try:\n",
        "            self.logger.info(f\"Comparing Taggers for: {sentence}\")\n",
        "\n",
        "            # Rule-Based Tagging\n",
        "            rule_based_tags = self.rule_based_pos_tagger(sentence)\n",
        "\n",
        "            # Stochastic Tagging\n",
        "            stochastic_tags = self.stochastic_pos_tagger(sentence)\n",
        "\n",
        "            # Print Comparison\n",
        "            print(\"\\n=== Tagging Comparison ===\")\n",
        "            print(\"Rule-Based Tagging:\")\n",
        "            for word, tag in rule_based_tags:\n",
        "                print(f\"{word}: {tag}\")\n",
        "\n",
        "            print(\"\\nStochastic Tagging:\")\n",
        "            for word, tag in stochastic_tags:\n",
        "                print(f\"{word}: {tag}\")\n",
        "\n",
        "        except Exception as e:\n",
        "            self.logger.error(f\"Comparison Error: {e}\")\n",
        "            traceback.print_exc()"
      ],
      "metadata": {
        "id": "_9jMAI9r9Ud3"
      },
      "execution_count": 15,
      "outputs": []
    },
    {
      "cell_type": "code",
      "source": [
        "# Test Sentences\n",
        "test_sentences = [\n",
        "    \"The quick brown fox jumps over the lazy dog.\",\n",
        "    \"Natural language processing is an exciting field of artificial intelligence.\",\n",
        "    \"She quickly ran towards the beautiful sunset.\"\n",
        "]\n",
        "\n",
        "# Create POS Tagger Instance\n",
        "pos_tagger = AdvancedPOSTagger()"
      ],
      "metadata": {
        "id": "a6HEVJOF9iII"
      },
      "execution_count": 16,
      "outputs": []
    },
    {
      "cell_type": "code",
      "source": [
        "# Compare Taggers for Each Sentence\n",
        "print(test_sentences[0])\n",
        "pos_tagger.compare_taggers(test_sentences[0])\n"
      ],
      "metadata": {
        "colab": {
          "base_uri": "https://localhost:8080/"
        },
        "id": "LiiELW9t_TBP",
        "outputId": "909214aa-bb48-4003-b033-3221195eba4b"
      },
      "execution_count": 20,
      "outputs": [
        {
          "output_type": "stream",
          "name": "stdout",
          "text": [
            "The quick brown fox jumps over the lazy dog.\n",
            "\n",
            "=== Tagging Comparison ===\n",
            "Rule-Based Tagging:\n",
            "The: PROPN\n",
            "quick: NOUN\n",
            "brown: NOUN\n",
            "fox: NOUN\n",
            "jumps: NOUN\n",
            "over: NOUN\n",
            "the: DET\n",
            "lazy: NOUN\n",
            "dog: NOUN\n",
            ".: NOUN\n",
            "\n",
            "Stochastic Tagging:\n",
            "The: DT\n",
            "quick: JJ\n",
            "brown: NN\n",
            "fox: NN\n",
            "jumps: VBZ\n",
            "over: IN\n",
            "the: DT\n",
            "lazy: JJ\n",
            "dog: NN\n",
            ".: .\n"
          ]
        }
      ]
    },
    {
      "cell_type": "code",
      "source": [
        "# Compare Taggers for Each Sentence\n",
        "print(test_sentences[1])\n",
        "pos_tagger.compare_taggers(test_sentences[1])"
      ],
      "metadata": {
        "colab": {
          "base_uri": "https://localhost:8080/"
        },
        "id": "shgNLAiW_Tou",
        "outputId": "f458b9b5-73b1-46cf-c07b-fdd2969a7daa"
      },
      "execution_count": 23,
      "outputs": [
        {
          "output_type": "stream",
          "name": "stdout",
          "text": [
            "Natural language processing is an exciting field of artificial intelligence.\n",
            "\n",
            "=== Tagging Comparison ===\n",
            "Rule-Based Tagging:\n",
            "Natural: PROPN\n",
            "language: NOUN\n",
            "processing: NOUN\n",
            "is: NOUN\n",
            "an: DET\n",
            "exciting: NOUN\n",
            "field: NOUN\n",
            "of: NOUN\n",
            "artificial: NOUN\n",
            "intelligence: NOUN\n",
            ".: NOUN\n",
            "\n",
            "Stochastic Tagging:\n",
            "Natural: JJ\n",
            "language: NN\n",
            "processing: NN\n",
            "is: VBZ\n",
            "an: DT\n",
            "exciting: JJ\n",
            "field: NN\n",
            "of: IN\n",
            "artificial: JJ\n",
            "intelligence: NN\n",
            ".: .\n"
          ]
        }
      ]
    },
    {
      "cell_type": "code",
      "source": [
        "# Compare Taggers for Each Sentence\n",
        "print(test_sentences[2])\n",
        "pos_tagger.compare_taggers(test_sentences[2])"
      ],
      "metadata": {
        "colab": {
          "base_uri": "https://localhost:8080/"
        },
        "id": "dUeXkRLb_UPe",
        "outputId": "fa5e9af1-8c9b-40f4-83c6-9eb225a040c3"
      },
      "execution_count": 24,
      "outputs": [
        {
          "output_type": "stream",
          "name": "stdout",
          "text": [
            "She quickly ran towards the beautiful sunset.\n",
            "\n",
            "=== Tagging Comparison ===\n",
            "Rule-Based Tagging:\n",
            "She: PROPN\n",
            "quickly: ADV\n",
            "ran: NOUN\n",
            "towards: NOUN\n",
            "the: DET\n",
            "beautiful: NOUN\n",
            "sunset: NOUN\n",
            ".: NOUN\n",
            "\n",
            "Stochastic Tagging:\n",
            "She: PRP\n",
            "quickly: RB\n",
            "ran: VBD\n",
            "towards: IN\n",
            "the: DT\n",
            "beautiful: JJ\n",
            "sunset: NN\n",
            ".: .\n"
          ]
        }
      ]
    }
  ]
}