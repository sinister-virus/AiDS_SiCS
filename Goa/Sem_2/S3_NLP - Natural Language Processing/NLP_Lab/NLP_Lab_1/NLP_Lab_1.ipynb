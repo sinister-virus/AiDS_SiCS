{
  "nbformat": 4,
  "nbformat_minor": 0,
  "metadata": {
    "colab": {
      "provenance": []
    },
    "kernelspec": {
      "name": "python3",
      "display_name": "Python 3"
    },
    "language_info": {
      "name": "python"
    }
  },
  "cells": [
    {
      "cell_type": "code",
      "execution_count": 1,
      "metadata": {
        "id": "qHlTUcGu22gy"
      },
      "outputs": [],
      "source": [
        "import re\n",
        "\n",
        "def clean_text(text):\n",
        "\n",
        "    # Remove URLs\n",
        "    text = re.sub(r'http\\S+|www\\.\\S+', '', text)\n",
        "\n",
        "    # Remove email addresses\n",
        "    text = re.sub(r'\\b[A-Za-z0-9._%+-]+@[A-Za-z0-9.-]+\\.[A-Z|a-z]{2,}\\b', '', text)\n",
        "\n",
        "    # Remove special characters (except spaces)\n",
        "    text = re.sub(r'[^A-Za-z0-9\\s]', '', text)\n",
        "\n",
        "    # Normalize whitespace\n",
        "    text = re.sub(r'\\s+', ' ', text).strip()\n",
        "\n",
        "    return text"
      ]
    },
    {
      "cell_type": "code",
      "source": [
        "# Example Usage\n",
        "sample_text = \"\"\"\n",
        "Hello! You can reach out to us, contact@mysite.com for any inquiries.\n",
        "Check our website: https://www.mysite.com/products or follow us on social media at http://facebook.com/mysite!\n",
        "Limited-time offers are available for $19.99 only. Don't miss out - register at www.mysite.com/signup now!\n",
        "For partnership queries, email us partners@business.com)\n",
        "\"\"\"\n",
        "\n",
        "cleaned_text = clean_text(sample_text)\n",
        "print(\"Cleaned Text:\")\n",
        "print(cleaned_text)\n"
      ],
      "metadata": {
        "colab": {
          "base_uri": "https://localhost:8080/"
        },
        "id": "vkN7_g6P2_zo",
        "outputId": "6bd2f0ea-a980-43ab-a8d1-b578e3cb5fa5"
      },
      "execution_count": 2,
      "outputs": [
        {
          "output_type": "stream",
          "name": "stdout",
          "text": [
            "Cleaned Text:\n",
            "Hello You can reach out to us for any inquiries Check our website or follow us on social media at Limitedtime offers are available for 1999 only Dont miss out register at now For partnership queries email us\n"
          ]
        }
      ]
    }
  ]
}