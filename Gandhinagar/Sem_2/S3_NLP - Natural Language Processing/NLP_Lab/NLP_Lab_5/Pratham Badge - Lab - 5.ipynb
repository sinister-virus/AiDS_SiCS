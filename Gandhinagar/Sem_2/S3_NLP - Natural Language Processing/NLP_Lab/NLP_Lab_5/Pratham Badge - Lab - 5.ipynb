{
 "cells": [
  {
   "cell_type": "code",
   "execution_count": null,
   "id": "6d104aa1",
   "metadata": {},
   "outputs": [],
   "source": [
    "import nltk\n",
    "from nltk import CFG, ChartParser\n",
    "\n",
    "grammar = CFG.fromstring(\"\"\"\n",
    "    S -> NP VP\n",
    "    NP -> Det N | N\n",
    "    VP -> V NP | V\n",
    "    Det -> 'the' | 'a'\n",
    "    N -> 'dog' | 'cat' | 'park' | 'man' | 'woman' | 'ball'\n",
    "    V -> 'chased' | 'saw' | 'barked' | 'kicked' | 'found' | 'held'\n",
    "\"\"\")\n",
    "\n",
    "parser = ChartParser(grammar)\n",
    "sentence = \"The dog chased a cat\"\n",
    "words = nltk.word_tokenize(sentence.lower())\n",
    "\n",
    "for tree in parser.parse(words):\n",
    "    print(tree)\n",
    "    tree.pretty_print()\n",
    "    break\n",
    "else:\n",
    "    print(\"Sentence does not conform to the grammar.\")"
   ]
  },
  {
   "cell_type": "code",
   "execution_count": null,
   "id": "976076b3",
   "metadata": {},
   "outputs": [],
   "source": [
    "from nltk import PCFG, ViterbiParser\n",
    "\n",
    "grammar = PCFG.fromstring(\"\"\"\n",
    "    S -> NP VP [1.0]\n",
    "    NP -> Det N [0.5] | N [0.5]\n",
    "    VP -> V NP [0.7] | V [0.3]\n",
    "    Det -> 'the' [0.6] | 'a' [0.4]\n",
    "    N -> 'dog' [0.3] | 'cat' [0.3] | 'park' [0.2] | 'man' [0.1] | 'woman' [0.1]\n",
    "    V -> 'chased' [0.4] | 'saw' [0.3] | 'barked' [0.3]\n",
    "\"\"\")\n",
    "\n",
    "parser = ViterbiParser(grammar)\n",
    "sentence = \"The dog chased a cat\"\n",
    "words = nltk.word_tokenize(sentence.lower())\n",
    "\n",
    "for tree in parser.parse(words):\n",
    "    tree.pretty_print()\n"
   ]
  },
  {
   "cell_type": "markdown",
   "id": "8872c18c",
   "metadata": {},
   "source": [
    "1. For the Given Text file Implement CFG and PCFG based Parsing for grammer checking and calculate percentage of correctness in text file."
   ]
  },
  {
   "cell_type": "markdown",
   "id": "15c24d07",
   "metadata": {},
   "source": [
    "2. For the same text and for some other examples explore gramformer's grammer correction"
   ]
  }
 ],
 "metadata": {
  "kernelspec": {
   "display_name": "Python 3 (ipykernel)",
   "language": "python",
   "name": "python3"
  },
  "language_info": {
   "codemirror_mode": {
    "name": "ipython",
    "version": 3
   },
   "file_extension": ".py",
   "mimetype": "text/x-python",
   "name": "python",
   "nbconvert_exporter": "python",
   "pygments_lexer": "ipython3",
   "version": "3.9.16"
  }
 },
 "nbformat": 4,
 "nbformat_minor": 5
}
