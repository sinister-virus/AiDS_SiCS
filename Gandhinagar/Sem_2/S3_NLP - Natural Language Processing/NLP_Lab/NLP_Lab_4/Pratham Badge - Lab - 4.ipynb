{
 "cells": [
  {
   "cell_type": "markdown",
   "id": "67948ca9",
   "metadata": {},
   "source": [
    "1. Download a YouTube video’s audio using yt-dlp"
   ]
  },
  {
   "cell_type": "code",
   "id": "91eba7d9a96b6517",
   "metadata": {
    "ExecuteTime": {
     "end_time": "2025-02-26T05:58:23.258545Z",
     "start_time": "2025-02-26T05:58:23.255356Z"
    }
   },
   "source": [
    "import yt_dlp as youtube_dl\n",
    "audio_file=\"audio_1.mp3\""
   ],
   "outputs": [],
   "execution_count": 36
  },
  {
   "cell_type": "code",
   "id": "785b12b789ed612e",
   "metadata": {
    "ExecuteTime": {
     "end_time": "2025-02-26T05:58:23.265684Z",
     "start_time": "2025-02-26T05:58:23.261554Z"
    }
   },
   "source": [
    "def get_audio(url):\n",
    "    video_info = youtube_dl.YoutubeDL().extract_info(url = url, download = False)\n",
    "    options = {\n",
    "        'format': 'bestaudio/best',\n",
    "        'keepvideo': False,\n",
    "        'noplaylist': True,\n",
    "        'outtmpl': audio_file,\n",
    "        'postprocessors': [{\n",
    "            'key': 'FFmpegExtractAudio',\n",
    "            'preferredcodec': 'mp3',\n",
    "            'preferredquality': '192',\n",
    "        }]\n",
    "    }\n",
    "    with youtube_dl.YoutubeDL(options) as ydl:\n",
    "        ydl.download([video_info['webpage_url']])"
   ],
   "outputs": [],
   "execution_count": 37
  },
  {
   "cell_type": "code",
   "id": "123dabfecd25572d",
   "metadata": {
    "ExecuteTime": {
     "end_time": "2025-02-26T05:58:31.201605Z",
     "start_time": "2025-02-26T05:58:23.273396Z"
    }
   },
   "source": [
    "x = \"https://www.youtube.com/watch?v=H-6c8GSU2d8\"\n",
    "get_audio(x)"
   ],
   "outputs": [
    {
     "name": "stdout",
     "output_type": "stream",
     "text": [
      "[youtube] Extracting URL: https://www.youtube.com/watch?v=H-6c8GSU2d8\n",
      "[youtube] H-6c8GSU2d8: Downloading webpage\n",
      "[youtube] H-6c8GSU2d8: Downloading tv client config\n",
      "[youtube] H-6c8GSU2d8: Downloading player c548b3da\n",
      "[youtube] H-6c8GSU2d8: Downloading tv player API JSON\n",
      "[youtube] H-6c8GSU2d8: Downloading ios player API JSON\n",
      "[youtube] H-6c8GSU2d8: Downloading m3u8 information\n",
      "[youtube] Extracting URL: https://www.youtube.com/watch?v=H-6c8GSU2d8\n",
      "[youtube] H-6c8GSU2d8: Downloading webpage\n",
      "[youtube] H-6c8GSU2d8: Downloading tv client config\n",
      "[youtube] H-6c8GSU2d8: Downloading player c548b3da\n",
      "[youtube] H-6c8GSU2d8: Downloading tv player API JSON\n",
      "[youtube] H-6c8GSU2d8: Downloading ios player API JSON\n",
      "[youtube] H-6c8GSU2d8: Downloading m3u8 information\n",
      "[info] H-6c8GSU2d8: Downloading 1 format(s): 251\n",
      "[download] audio_1.mp3 has already been downloaded\n",
      "[download] 100% of    3.25MiB\n",
      "[ExtractAudio] Not converting audio audio_1.mp3; file is already in target format mp3\n"
     ]
    }
   ],
   "execution_count": 38
  },
  {
   "cell_type": "markdown",
   "id": "824e9cb8",
   "metadata": {},
   "source": [
    "2. Transcribe the audio using Whisper."
   ]
  },
  {
   "cell_type": "code",
   "id": "cdf0898889bfedb8",
   "metadata": {
    "ExecuteTime": {
     "end_time": "2025-02-26T05:58:31.212446Z",
     "start_time": "2025-02-26T05:58:31.208264Z"
    }
   },
   "source": [
    "import warnings\n",
    "warnings.filterwarnings(\"ignore\", message=\"FP16 is not supported on CPU; using FP32 instead\")"
   ],
   "outputs": [],
   "execution_count": 39
  },
  {
   "cell_type": "code",
   "id": "8a7e1b61d3202017",
   "metadata": {
    "ExecuteTime": {
     "end_time": "2025-02-26T05:59:01.126604Z",
     "start_time": "2025-02-26T05:59:01.121272Z"
    }
   },
   "source": [
    "import whisper\n",
    "import torch\n",
    "\n",
    "# Ensure safe loading\n",
    "torch.serialization.add_safe_globals({})\n",
    "\n",
    "def get_result():\n",
    "    \"\"\"Get speech recognition model.\"\"\"\n",
    "\n",
    "    device = \"cuda\" if torch.cuda.is_available() else \"cpu\"\n",
    "    model = whisper.load_model(\"base\", device=device)\n",
    "\n",
    "    result = model.transcribe(audio_file)\n",
    "\n",
    "    return result[\"text\"]\n"
   ],
   "outputs": [],
   "execution_count": 47
  },
  {
   "cell_type": "code",
   "id": "445201e8d65c5169",
   "metadata": {
    "ExecuteTime": {
     "end_time": "2025-02-26T05:59:10.766228Z",
     "start_time": "2025-02-26T05:59:02.788512Z"
    }
   },
   "source": [
    "transcript = get_result()\n",
    "transcript"
   ],
   "outputs": [
    {
     "data": {
      "text/plain": [
       "\" Elon Musk's artificial intelligence startup XAI has showed off its updated GROC-3 model. Technology that the billionaire says is quote, the smartest AI on Earth. Matt Blockson from Bloomberg Intelligence joins me now to assess whether or not that claim is true. How big, then, Matt, is this moment for the release in terms of AI? In terms of moving things forward, has GROC done it? Has it moved the dial on the developments and innovations around AI? Yeah, I think it's definitely moved the dial, but how much we'll just have to wait and see. I mean, this is like a very early stage. It was only launched within the last hour or two and access to it is going to be limited initially to really, plus subscribers on the X platform, which is a $22 a month subscription. But certainly some of the claims they're making and the demonstration that they gave earlier is pretty impressive. Given his love of Spacey, he asked GROC to plot a course for a rocket from Earth to Mars and back again. So keeping things relevant to SpaceX there. And they're claiming that it matches and beats the other popular models like Claude and ChatGPT on a lot of complex reasoning and calculation issues. So yeah, it's the next step forward. Yeah, and as you say, we'll have to see whether independent assessments verify the claim that Musk is making, that it beats many of its competitors, talking of which, of course, OpenAI is prominently amongst them. Does this put Sam Altman on the back foot to some extent? Is Sam Altman of OpenAI now playing catch up to Musk? Yeah, a little bit, but I think this is a bit like a kind of multi-dimensional game of ping pong. So somebody hits them all. And then it's up to somebody else to kind of take things forward. And we've seen that there recently with DeepSeat launching. And now we have GROC 3. There's a chat GPT in the pipes. I'm sure we're going to see further developments from Metro on Lama 2 and Google Gemini. So, you know, I think this isn't the kind of the definitive statement in the world of Janice Fei and these kind of chat bots. There's a lot more to come from all of Musk's competitors on this, yeah, very pivotal kind of software technology.\""
      ]
     },
     "execution_count": 48,
     "metadata": {},
     "output_type": "execute_result"
    }
   ],
   "execution_count": 48
  },
  {
   "cell_type": "markdown",
   "id": "0fdea708",
   "metadata": {},
   "source": [
    "3. Text Summarization: Generate a concise summary.\n",
    "\n",
    "> summarizer = pipeline(\"summarization\") <br>\n",
    "> summary = summarizer(text, max_length=150, min_length=50, do_sample=False) <br>\n"
   ]
  },
  {
   "cell_type": "code",
   "id": "9a41f93d4f32018",
   "metadata": {
    "ExecuteTime": {
     "end_time": "2025-02-26T05:58:48.316899Z",
     "start_time": "2025-02-26T05:58:44.347688Z"
    }
   },
   "source": [
    "from transformers import pipeline\n",
    "\n",
    "device = 0 if torch.cuda.is_available() else -1\n",
    "\n",
    "summarizer = pipeline(\"summarization\", model=\"sshleifer/distilbart-cnn-12-6\", revision=\"a4f8f3e\", device = device)\n",
    "\n",
    "summary = summarizer(transcript, max_length=150, min_length=50, do_sample=False)\n",
    "\n",
    "print(summary)"
   ],
   "outputs": [
    {
     "name": "stderr",
     "output_type": "stream",
     "text": [
      "Device set to use cuda:0\n"
     ]
    },
    {
     "name": "stdout",
     "output_type": "stream",
     "text": [
      "[{'summary_text': \" Elon Musk's artificial intelligence startup XAI has showed off its updated GROC-3 model . Technology that the billionaire says is quote, the smartest AI on Earth . Matt Blockson from Bloomberg Intelligence joins us to assess whether or not that claim is true .\"}]\n"
     ]
    }
   ],
   "execution_count": 42
  },
  {
   "cell_type": "markdown",
   "id": "398e1d34",
   "metadata": {},
   "source": [
    "4. Named Entity Recognition (NER): Extract important entities (names, locations, dates, etc.)."
   ]
  },
  {
   "cell_type": "code",
   "id": "6f2926265019f619",
   "metadata": {
    "ExecuteTime": {
     "end_time": "2025-02-26T05:58:48.333717Z",
     "start_time": "2025-02-26T05:58:48.328093Z"
    }
   },
   "source": [
    "import nltk\n",
    "# nltk.download('punkt')\n",
    "# nltk.download('averaged_perceptron_tagger')\n",
    "# nltk.download('maxent_ne_chunker')\n",
    "# nltk.download('words')"
   ],
   "outputs": [],
   "execution_count": 43
  },
  {
   "cell_type": "code",
   "id": "5348c85fdcce5d39",
   "metadata": {
    "ExecuteTime": {
     "end_time": "2025-02-26T05:58:48.963267Z",
     "start_time": "2025-02-26T05:58:48.353728Z"
    }
   },
   "source": [
    "import spacy\n",
    "\n",
    "# Load spaCy model for Named Entity Recognition\n",
    "nlp = spacy.load(\"en_core_web_sm\")\n",
    "\n",
    "doc = nlp(transcript)\n",
    "named_entities = [(ent.text, ent.label_) for ent in doc.ents]\n",
    "print(\"Named Entities:\\n\", named_entities, \"\\n\")"
   ],
   "outputs": [
    {
     "name": "stdout",
     "output_type": "stream",
     "text": [
      "Named Entities:\n",
      " [('GROC-3', 'PERSON'), ('AI', 'GPE'), ('Earth', 'LOC'), ('Matt Blockson', 'PERSON'), ('Bloomberg Intelligence', 'ORG'), ('Matt', 'PERSON'), ('AI', 'GPE'), ('AI', 'GPE'), ('the last hour', 'TIME'), ('two', 'CARDINAL'), ('22', 'MONEY'), ('Spacey', 'ORG'), ('Earth', 'LOC'), ('Mars', 'LOC'), ('Claude', 'PERSON'), ('OpenAI', 'ORG'), ('Sam Altman', 'PERSON'), ('Sam Altman', 'PERSON'), ('OpenAI', 'GPE'), ('DeepSeat', 'ORG'), ('3', 'CARDINAL'), ('GPT', 'ORG'), ('Metro', 'FAC'), ('Lama 2', 'DATE'), ('Janice Fei', 'PERSON'), ('Musk', 'PERSON')] \n",
      "\n"
     ]
    }
   ],
   "execution_count": 44
  },
  {
   "cell_type": "markdown",
   "id": "2a169448",
   "metadata": {},
   "source": [
    "5. Language Detection & Translation: Detect the language and translate it into Spanish.\n",
    "\n",
    "detected_lang = detect(text) <br>\n",
    "translated_text=GoogleTranslator(source=\"auto\",target=target_lang).translate(text)<br>"
   ]
  },
  {
   "cell_type": "code",
   "id": "e496d00959d23195",
   "metadata": {
    "ExecuteTime": {
     "end_time": "2025-02-26T05:58:49.283080Z",
     "start_time": "2025-02-26T05:58:48.972517Z"
    }
   },
   "source": [
    "from langdetect import detect\n",
    "from deep_translator import GoogleTranslator\n",
    "\n",
    "def detect_and_translate(text, target_lang):\n",
    "    # Detect the language of the text\n",
    "    detected_lang = detect(text)\n",
    "\n",
    "    # Translate the text to the target language\n",
    "    translated_text = GoogleTranslator(source='auto', target=target_lang).translate(text)\n",
    "\n",
    "    print(f\"Detected Language: {detected_lang}\")\n",
    "    print(f\"Translated Text: {translated_text}\")\n",
    "\n",
    "detect_and_translate(transcript, 'es')"
   ],
   "outputs": [
    {
     "name": "stdout",
     "output_type": "stream",
     "text": [
      "Detected Language: en\n",
      "Translated Text: La startup de inteligencia artificial de Elon Musk, Xai, ha mostrado su modelo actualizado de Germ-3. La tecnología que dice el multimillonario es cita, la IA más inteligente de la Tierra. Matt Blockson de Bloomberg Intelligence se une a mí ahora para evaluar si esa afirmación es cierta o no. ¿Qué tan grande, entonces, Matt, es este momento para el lanzamiento en términos de IA? En términos de avanzar, ¿Groc lo ha hecho? ¿Ha movido el dial sobre los desarrollos e innovaciones en torno a la IA? Sí, creo que definitivamente ha movido el dial, pero cuánto tendremos que esperar y ver. Quiero decir, esto es como una etapa muy temprana. Solo se lanzó dentro de la última hora o dos y el acceso a él se limitará inicialmente a realmente, además de suscriptores en la plataforma X, que es una suscripción de $ 22 por mes. Pero ciertamente algunas de las afirmaciones que están haciendo y la demostración que dieron anteriormente es bastante impresionante. Dado su amor por Spacey, le pidió a Grock que planeara un curso para un cohete desde la Tierra hasta Marte y de regreso. Así que mantener las cosas relevantes para SpaceX allí. Y afirman que coincide y supera a los otros modelos populares como Claude y Chatgpt en muchos problemas de razonamiento y cálculo complejos. Así que sí, es el siguiente paso adelante. Sí, y como usted dice, tendremos que ver si las evaluaciones independientes verifican la afirmación que Musk está haciendo, que supera a muchos de sus competidores, hablando de los cuales, por supuesto, OpenAi está prominentemente entre ellos. ¿Esto pone a Sam Altman en el pie trasero hasta cierto punto? ¿Sam Altman de Operai ahora está jugando a Musk? Sí, un poco, pero creo que esto es un poco como una especie de juego multidimensional de Ping Pong. Entonces alguien los golpea a todos. Y luego depende de otra persona llevar adelante las cosas. Y lo hemos visto recientemente con el lanzamiento de Deepseat. Y ahora tenemos Groc 3. Hay un chat GPT en las tuberías. Estoy seguro de que veremos más desarrollos de Metro sobre Lama 2 y Google Gemini. Entonces, ya sabes, creo que este no es el tipo de declaración definitiva en el mundo de Janice Fei y este tipo de bots de chat. Hay mucho más por venir de todos los competidores de Musk en este tipo de tecnología de software muy fundamental.\n"
     ]
    }
   ],
   "execution_count": 45
  },
  {
   "cell_type": "markdown",
   "id": "9a945d4f",
   "metadata": {},
   "source": [
    "6. Topic Classification: Categorize the text into predefined topics (e.g., technology, politics, health, sports, etc.).\n",
    "\n",
    "    > classifier = pipeline(\"zero-shot-classification\")\n",
    "\n",
    "    > candidate_labels = [\"technology\", \"health\", \"sports\", \"education\", \"politics\", \"entertainment\"]\n",
    "    \n",
    "    > result = classifier(text, candidate_labels)"
   ]
  },
  {
   "cell_type": "code",
   "id": "3b9bc2dceee6ca7a",
   "metadata": {
    "ExecuteTime": {
     "end_time": "2025-02-26T05:59:01.087316Z",
     "start_time": "2025-02-26T05:58:49.291247Z"
    }
   },
   "source": [
    "from transformers import pipeline\n",
    "\n",
    "device = 0 if torch.cuda.is_available() else -1\n",
    "\n",
    "# Initialize the zero-shot classification pipeline with a suitable model\n",
    "classifier = pipeline(\"zero-shot-classification\", model=\"facebook/bart-large-mnli\", device=device)\n",
    "\n",
    "# Define the candidate labels\n",
    "candidate_labels = [\"Technology\", \"Health\", \"Sports\", \"Education\", \"Politics\", \"Entertainment\"]\n",
    "\n",
    "# Perform the classification\n",
    "result = classifier(transcript, candidate_labels)\n",
    "\n",
    "# Print the results\n",
    "print(\"Topic Classification:\")\n",
    "for label, score in zip(result[\"labels\"], result[\"scores\"]):\n",
    "    print(f\"{label}: {score}\")"
   ],
   "outputs": [
    {
     "name": "stderr",
     "output_type": "stream",
     "text": [
      "Device set to use cuda:0\n"
     ]
    },
    {
     "name": "stdout",
     "output_type": "stream",
     "text": [
      "Topic Classification:\n",
      "Technology: 0.7734097242355347\n",
      "Entertainment: 0.06303556263446808\n",
      "Politics: 0.05011872202157974\n",
      "Sports: 0.04983419179916382\n",
      "Education: 0.033371273428201675\n",
      "Health: 0.030230598524212837\n"
     ]
    }
   ],
   "execution_count": 46
  }
 ],
 "metadata": {
  "kernelspec": {
   "display_name": "Python 3 (ipykernel)",
   "language": "python",
   "name": "python3"
  },
  "language_info": {
   "codemirror_mode": {
    "name": "ipython",
    "version": 3
   },
   "file_extension": ".py",
   "mimetype": "text/x-python",
   "name": "python",
   "nbconvert_exporter": "python",
   "pygments_lexer": "ipython3",
   "version": "3.12.9"
  }
 },
 "nbformat": 4,
 "nbformat_minor": 5
}
