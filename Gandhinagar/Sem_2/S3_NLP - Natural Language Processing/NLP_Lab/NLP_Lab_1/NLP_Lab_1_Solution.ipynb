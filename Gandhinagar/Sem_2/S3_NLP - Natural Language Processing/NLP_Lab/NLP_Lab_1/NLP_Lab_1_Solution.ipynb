{
 "cells": [
  {
   "cell_type": "code",
   "execution_count": 19,
   "id": "9363f0df",
   "metadata": {},
   "outputs": [
    {
     "name": "stdout",
     "output_type": "stream",
     "text": [
      "Analysis Results:\n",
      "Number of lines: 600\n",
      "Number of words: 600\n",
      "Total consumers for Branch1: 20 \n",
      "Beverages available:\n",
      "Branch10\n",
      "set()\n",
      "Branch8\n",
      "{'MED_MOCHA', 'Triple_Lite', 'Cold_LATTE', 'Mild_cappuccino', 'Special_Espresso', 'Mild_Coffee', 'Triple_Espresso', 'Special_Lite', 'Special_MOCHA', 'Double_Espresso', 'Double_cappuccino', 'LARGE_cappuccino', 'MED_Coffee', 'MED_LATTE', 'Special_cappuccino', 'Double_LATTE', 'Double_Coffee', 'MED_Espresso', 'MED_cappuccino', 'Cold_cappuccino', 'SMALL_MOCHA', 'SMALL_Espresso', 'LARGE_Espresso', 'Triple_Coffee', 'LARGE_MOCHA', 'ICY_Coffee', 'ICY_cappuccino', 'LARGE_Coffee', 'SMALL_LATTE', 'Double_MOCHA', 'Cold_Coffee', 'ICY_Lite', 'Triple_cappuccino', 'Cold_Lite', 'Special_LATTE', 'Mild_Espresso', 'SMALL_Lite'}\n",
      "Branch1\n",
      "{'MED_MOCHA', 'Triple_MOCHA', 'Cold_LATTE', 'Special_Espresso', 'Triple_LATTE', 'Double_Espresso', 'LARGE_cappuccino', 'Mild_LATTE', 'MED_LATTE', 'Special_cappuccino', 'Mild_Lite', 'SMALL_MOCHA', 'SMALL_Espresso', 'LARGE_Espresso', 'ICY_Espresso', 'SMALL_LATTE', 'Double_MOCHA', 'Cold_Lite', 'ICY_MOCHA', 'Special_Coffee'}\n",
      "'Icy Cappuccino' orders in Branch5: 3\n",
      "Total consumers for 'MILD COFFEE': 9\n"
     ]
    }
   ],
   "source": [
    "def analyze_files(file_names):\n",
    "    # Combine text from all files\n",
    "    combined_text = \"\"\n",
    "    for file_name in file_names:\n",
    "        with open(file_name, 'r') as file:\n",
    "            combined_text += file.read()\n",
    "\n",
    "    # Count the number of lines\n",
    "    total_lines = combined_text.count('\\n')\n",
    "\n",
    "    # Count the number of words\n",
    "    total_words = len(combined_text.split())\n",
    "\n",
    "    \n",
    "    branch1_consumers = 0  \n",
    "    branch_beverages = {'Branch10': set(), 'Branch8': set(), 'Branch1': set()}\n",
    "    icy_cappuccino_branch5 = 0  \n",
    "    mild_coffee_consumers = 0  \n",
    "\n",
    "    \n",
    "    for line in combined_text.splitlines():\n",
    "        parts = line.strip().split(\", \")\n",
    "        \n",
    "        \n",
    "        for part in parts:\n",
    "            word = part.split(\",\")\n",
    "            if len(word) == 2:  \n",
    "                beverage = word[0].strip()\n",
    "                branch = word[1].strip()\n",
    "\n",
    "                # Beverages available in Branch10, Branch8, and Branch1\n",
    "                if branch in branch_beverages:\n",
    "                    branch_beverages[branch].add(beverage)\n",
    "                \n",
    "                # Count orders for 'Icy Cappuccino' in Branch5\n",
    "                if branch == 'Branch5' and beverage.lower() == 'icy_cappuccino' :\n",
    "                    icy_cappuccino_branch5 += 1  # Assuming each line is one order\n",
    "\n",
    "                # Count consumers for 'MILD_COFFEE'\n",
    "                if beverage.upper() == 'MILD_COFFEE':\n",
    "                    mild_coffee_consumers += 1 \n",
    "                \n",
    "                if branch == 'Branch1':\n",
    "                    branch1_consumers += 1\n",
    "\n",
    "    \n",
    "    print(\"Analysis Results:\")\n",
    "    print(f\"Number of lines: {total_lines}\")\n",
    "    print(f\"Number of words: {total_words}\")\n",
    "    print(f\"Total consumers for Branch1: {branch1_consumers} \")\n",
    "    print(\"Beverages available:\")\n",
    "    \n",
    "    for branch, beverages in branch_beverages.items():\n",
    "        print(branch)\n",
    "        print(beverages)\n",
    "       \n",
    "    \n",
    "    print(f\"'Icy Cappuccino' orders in Branch5: {icy_cappuccino_branch5}\")\n",
    "    print(f\"Total consumers for 'MILD COFFEE': {mild_coffee_consumers}\")\n",
    "\n",
    "\n",
    "file_names = [\"Bev_BranchA.txt\",\"Bev_BranchB.txt\",\"Bev_BranchC.txt\"]  \n",
    "analyze_files(file_names)\n"
   ]
  }
 ],
 "metadata": {
  "kernelspec": {
   "display_name": "Python 3 (ipykernel)",
   "language": "python",
   "name": "python3"
  },
  "language_info": {
   "codemirror_mode": {
    "name": "ipython",
    "version": 3
   },
   "file_extension": ".py",
   "mimetype": "text/x-python",
   "name": "python",
   "nbconvert_exporter": "python",
   "pygments_lexer": "ipython3",
   "version": "3.9.16"
  }
 },
 "nbformat": 4,
 "nbformat_minor": 5
}
