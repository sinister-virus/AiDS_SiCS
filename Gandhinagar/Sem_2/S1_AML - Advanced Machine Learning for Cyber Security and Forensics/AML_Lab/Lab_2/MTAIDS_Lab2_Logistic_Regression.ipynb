{
  "cells": [
    {
      "cell_type": "markdown",
      "metadata": {
        "id": "rXY8GHCG87rs"
      },
      "source": [
        "# Programming Exercise 2: Logistic Regression\n",
        "\n",
        "> In this exercise, you will implement logistic regression and apply it to two different datasets."
      ]
    },
    {
      "cell_type": "markdown",
      "metadata": {
        "id": "D-6AY52i87ru"
      },
      "source": [
        "## 1. Logistic Regression\n",
        "\n",
        ">\n",
        "Suppose that you are the administrator of a university department and you want to determine each applicant’s chance of admission based on their results on two exams. You have historical data from previous applicants that you can use as a training set for logistic regression. For each training example, you have the applicant’s scores on two exams and the admissions decision.\n",
        "Your task is to build a classification model that estimates an applicant’s probability of admission based the scores from those two exams.\n",
        "\n",
        "### 1.1 Visualizing the Data"
      ]
    },
    {
      "cell_type": "code",
      "execution_count": null,
      "metadata": {
        "id": "QZ7bDdQS87rv"
      },
      "outputs": [],
      "source": [
        "import numpy as np\n",
        "import pandas as pd\n",
        "import seaborn as sns\n",
        "import matplotlib.pyplot as plt\n",
        "%matplotlib inline"
      ]
    },
    {
      "cell_type": "code",
      "execution_count": null,
      "metadata": {
        "id": "0tzjmMIK87rw"
      },
      "outputs": [],
      "source": [
        "import pandas as pd\n",
        "df = pd.read_csv('ex2data1.txt', sep=',', header=None)\n",
        "df.columns = ['exam_score_1', 'exam_score_2', 'label']\n",
        "df"
      ]
    },
    {
      "cell_type": "code",
      "execution_count": null,
      "metadata": {
        "id": "Q4PGnx1987rw"
      },
      "outputs": [],
      "source": [
        "df.describe()"
      ]
    },
    {
      "cell_type": "code",
      "execution_count": null,
      "metadata": {
        "id": "lmpLcmNZ87rx"
      },
      "outputs": [],
      "source": [
        "plt.figure(figsize=(7,5))\n",
        "ax = sns.scatterplot(x='exam_score_1', y='exam_score_2', hue='label', data=df, style='label', s=80)\n",
        "handles, labels = ax.get_legend_handles_labels()\n",
        "ax.legend(handles[1:], ['Not admitted', 'Admitted'])\n",
        "plt.title('Scatter plot of training data')\n",
        "plt.show(ax)"
      ]
    },
    {
      "cell_type": "markdown",
      "metadata": {
        "id": "bAYc_dDB87rx"
      },
      "source": [
        "### 1.2 Implementation\n",
        "\n",
        "#### 1.2.1 Sigmoid Function\n",
        "\n",
        "Logistic regression hypothesis:\n",
        "\n",
        "$$h_\\theta(x) = g(\\theta^Tx)$$\n",
        "\n",
        "$$g(z) = \\frac{1}{1+e^{-z}}$$"
      ]
    },
    {
      "cell_type": "code",
      "execution_count": null,
      "metadata": {
        "id": "fFfZoeD387rx"
      },
      "outputs": [],
      "source": [
        "def sigmoid(z):\n",
        "    z = np.array(z)\n",
        "    return 1 / (1+np.exp(-z))"
      ]
    },
    {
      "cell_type": "markdown",
      "metadata": {
        "id": "6u9sxYWs87rx"
      },
      "source": [
        "Plot of sigmoid function:"
      ]
    },
    {
      "cell_type": "code",
      "execution_count": null,
      "metadata": {
        "id": "kdZHC_yD87rx"
      },
      "outputs": [],
      "source": [
        "import matplotlib.pyplot as plt\n",
        "%matplotlib inline\n",
        "z = np.linspace(-10, 10, 100)\n",
        "sig = sigmoid(z)\n",
        "plt.figure(figsize=(9, 3))\n",
        "plt.plot([-10, 10], [0, 0], \"k-\")\n",
        "plt.plot([-10, 10], [0.5, 0.5], \"k:\")\n",
        "plt.plot([-10, 10], [1, 1], \"k:\")\n",
        "plt.plot([0, 0], [-1.1, 1.1], \"k-\")\n",
        "plt.plot(z, sig, \"b-\", linewidth=2)\n",
        "plt.xlabel(\"z\")\n",
        "plt.axis([-10, 10, -0.1, 1.1])\n",
        "plt.show()"
      ]
    },
    {
      "cell_type": "markdown",
      "metadata": {
        "id": "lu5oqUm587rx"
      },
      "source": [
        "#### 1.2.2 Cost Function and Gradient\n",
        "\n",
        "Cost function in logistic regression is:\n",
        "\n",
        "$$J(\\theta) = -\\frac{1}{m}\\sum_{i=1}^m[y^i log(h_\\theta(x^i))+(1-y^i)log(1-h_\\theta(x^i))]$$\n",
        "\n",
        "Vectorized implementation:\n",
        "\n",
        "$H = g(X\\theta)$\n",
        "\n",
        "$J(\\theta) = \\frac{1}{m}(-Y^T log(H)-(1-Y)^Tlog(1-H))$\n",
        "\n",
        "\n",
        "\n",
        "The gradient of the cost is a vector of the same length as $\\theta$ where $j^{th}$ element (for $j=0,1,...,n$) is defined as follows:\n",
        "\n",
        "$$\\nabla J(\\theta) = \\frac{1}{m} \\sum_{i=1}^m ((h_\\theta(x^i) - y^i) \\cdot x_j^i)$$\n",
        "\n",
        "Vectorized:\n",
        "$\\nabla J(\\theta) = \\frac{1}{m} \\cdot X^T \\cdot (g(X\\theta)-Y)$"
      ]
    },
    {
      "cell_type": "code",
      "execution_count": null,
      "metadata": {
        "id": "r0gjFOYs87ry"
      },
      "outputs": [],
      "source": [
        "def cost_function(theta, X, Y):\n",
        "    m = y.shape[0]\n",
        "    theta = theta.reshape(-1,1)\n",
        "    H = sigmoid(np.dot(X,theta))\n",
        "    J = (1/m) * (-np.dot(Y.T,np.log(H)) - np.dot((1-Y).T,np.log(1-H)))\n",
        "\n",
        "    diff_hy = H - Y\n",
        "    grad = (1/m) * np.dot(X.T,diff_hy)\n",
        "\n",
        "    return J, grad"
      ]
    },
    {
      "cell_type": "code",
      "execution_count": null,
      "metadata": {
        "id": "SZZE6FEs87ry"
      },
      "outputs": [],
      "source": [
        "m = df.shape[0]\n",
        "X = np.hstack((np.ones((m,1)),df[['exam_score_1', 'exam_score_2']].values))\n",
        "y = np.array(df.label.values).reshape(-1,1)\n",
        "initial_theta = np.zeros(shape=(X.shape[1]))"
      ]
    },
    {
      "cell_type": "code",
      "execution_count": null,
      "metadata": {
        "id": "SkmK_a_D87ry"
      },
      "outputs": [],
      "source": [
        "cost, grad = cost_function(initial_theta, X, y)\n",
        "print('Cost at initial theta (zeros):', cost)\n",
        "print('Expected cost (approx): 0.693')\n",
        "print('Gradient at initial theta (zeros):')\n",
        "print(grad.T)\n",
        "print('Expected gradients (approx):\\n -0.1000\\n -12.0092\\n -11.2628')"
      ]
    },
    {
      "cell_type": "code",
      "execution_count": null,
      "metadata": {
        "id": "hLyW5MUi87ry"
      },
      "outputs": [],
      "source": [
        "test_theta = np.array([-24, 0.2, 0.2])\n",
        "[cost, grad] = cost_function(test_theta, X, y)\n",
        "\n",
        "print('Cost at test theta:', cost)\n",
        "print('Gradient at test theta:')\n",
        "print(grad)\n"
      ]
    },
    {
      "cell_type": "markdown",
      "metadata": {
        "id": "GB1ntzgS87ry"
      },
      "source": [
        "#### 1.2.3 Learning Parameters using an optimization solver\n",
        "\"Conjugate gradient\", \"BFGS\", and \"L-BFGS\" are more sophisticated, faster ways to optimize $\\theta$ that can be used instead of gradient descent."
      ]
    },
    {
      "cell_type": "code",
      "execution_count": null,
      "metadata": {
        "id": "vCG7lL7387ry"
      },
      "outputs": [],
      "source": [
        "import scipy.optimize as opt\n",
        "def optimize_theta(X, y, initial_theta):\n",
        "    opt_results = opt.minimize(cost_function, initial_theta, args=(X, y), method='TNC',\n",
        "                               jac=True, options={'maxiter':400})\n",
        "    return opt_results['x'], opt_results['fun']"
      ]
    },
    {
      "cell_type": "code",
      "execution_count": null,
      "metadata": {
        "id": "2xEXpYpy87ry"
      },
      "outputs": [],
      "source": [
        "opt_theta, cost = optimize_theta(X, y, initial_theta)"
      ]
    },
    {
      "cell_type": "code",
      "execution_count": null,
      "metadata": {
        "id": "wjk54XtQ87ry"
      },
      "outputs": [],
      "source": [
        "print('Cost at theta found by fminunc:', cost)\n",
        "print('theta:\\n', opt_theta.reshape(-1,1))\n"
      ]
    },
    {
      "cell_type": "markdown",
      "metadata": {
        "id": "if8cenFY87rz"
      },
      "source": [
        "#### Decision boundary"
      ]
    },
    {
      "cell_type": "code",
      "execution_count": null,
      "metadata": {
        "id": "pQXlYZn_87rz"
      },
      "outputs": [],
      "source": [
        "plt.figure(figsize=(7,5))\n",
        "ax = sns.scatterplot(x='exam_score_1', y='exam_score_2', hue='label', data=df, style='label', s=80)\n",
        "handles, labels = ax.get_legend_handles_labels()\n",
        "ax.legend(handles[1:], ['Not admitted', 'Admitted'])\n",
        "plt.title('Training data with decision boundary')\n",
        "\n",
        "plot_x = np.array(ax.get_xlim())\n",
        "plot_y = (-1/opt_theta[2]*(opt_theta[1]*plot_x + opt_theta[0]))\n",
        "plt.plot(plot_x, plot_y, '-', c=\"green\")\n",
        "plt.show(ax)"
      ]
    },
    {
      "cell_type": "markdown",
      "metadata": {
        "id": "z0IYxZUz87rz"
      },
      "source": [
        "#### 1.2.4 Evaluating Logistic Regression"
      ]
    },
    {
      "cell_type": "markdown",
      "metadata": {
        "id": "Ghu3rBQo87rz"
      },
      "source": [
        "Predict whether a particular student will be admitted"
      ]
    },
    {
      "cell_type": "code",
      "execution_count": null,
      "metadata": {
        "id": "S5rxE2QX87rz"
      },
      "outputs": [],
      "source": [
        "prob = sigmoid(np.dot(np.array([1, 45, 85]),(opt_theta)))\n",
        "print('For a student with scores 45 and 85, we predict an admission probability of', prob)\n"
      ]
    },
    {
      "cell_type": "markdown",
      "metadata": {
        "id": "BsDmq2Le87rz"
      },
      "source": [
        "Accuracy on training set"
      ]
    },
    {
      "cell_type": "code",
      "execution_count": null,
      "metadata": {
        "id": "KzYcfHj587rz"
      },
      "outputs": [],
      "source": [
        "def predict(X, theta):\n",
        "    y_pred = [1 if sigmoid(X[i, :].dot(theta)) >= 0.5 else 0 for i in range(0, X.shape[0])]\n",
        "    return y_pred"
      ]
    },
    {
      "cell_type": "code",
      "execution_count": null,
      "metadata": {
        "id": "zZCur5pF87rz"
      },
      "outputs": [],
      "source": [
        "X = np.hstack((np.ones((m,1)),df[['exam_score_1', 'exam_score_2']].values))\n",
        "\n",
        "y_pred_prob = predict(X, opt_theta)\n",
        "f'Train accuracy: {np.mean(y_pred_prob == df.label.values) * 100}'"
      ]
    },
    {
      "cell_type": "markdown",
      "metadata": {
        "id": "H5YA9YdF87r0"
      },
      "source": [
        "#### 1.2.5 Equivalent code using Scikit-Learn:"
      ]
    },
    {
      "cell_type": "code",
      "execution_count": null,
      "metadata": {
        "id": "IdigfkjV87r0"
      },
      "outputs": [],
      "source": [
        "from sklearn.linear_model import LogisticRegression\n",
        "log_reg = LogisticRegression(solver='newton-cg', max_iter=400)\n",
        "log_reg.fit(df[['exam_score_1', 'exam_score_2']].values,\n",
        "            df.label.values)"
      ]
    },
    {
      "cell_type": "code",
      "execution_count": null,
      "metadata": {
        "id": "OKxg3r9W87r0"
      },
      "outputs": [],
      "source": [
        "log_reg.intercept_, log_reg.coef_"
      ]
    },
    {
      "cell_type": "markdown",
      "metadata": {
        "id": "mOUGO37U87r0"
      },
      "source": [
        "Sklearn logistic regression accuracy:"
      ]
    },
    {
      "cell_type": "code",
      "execution_count": null,
      "metadata": {
        "id": "GLrAUxaJ87r0"
      },
      "outputs": [],
      "source": [
        "log_reg.score(df[['exam_score_1', 'exam_score_2']].values,\n",
        "              df.label.values)"
      ]
    },
    {
      "cell_type": "markdown",
      "metadata": {
        "id": "2qpKIx8587r0"
      },
      "source": [
        "## 2. Regularized Logistic Regression\n",
        "\n",
        "> In this part of the exercise, you will implement regularized logistic regression to predict whether microchips from a fabrication plant passes quality assur- ance (QA). During QA, each microchip goes through various tests to ensure it is functioning correctly.\n",
        "Suppose you are the product manager of the factory and you have the test results for some microchips on two different tests. From these two tests, you would like to determine whether the microchips should be accepted or rejected. To help you make the decision, you have a dataset of test results on past microchips, from which you can build a logistic regression model.\n",
        "\n",
        "### 2.1 Visualizing the Data"
      ]
    },
    {
      "cell_type": "code",
      "execution_count": null,
      "metadata": {
        "id": "d2uFzFv187r1"
      },
      "outputs": [],
      "source": [
        "df2 = pd.read_csv('ex2data2.txt', sep=',', header=None)\n",
        "df2.columns = ['test_1', 'test_2', 'label']\n",
        "df2"
      ]
    },
    {
      "cell_type": "code",
      "execution_count": null,
      "metadata": {
        "id": "YhUQI3U-87r1"
      },
      "outputs": [],
      "source": [
        "df2.describe().T"
      ]
    },
    {
      "cell_type": "code",
      "execution_count": null,
      "metadata": {
        "id": "v1yxi_z087r1"
      },
      "outputs": [],
      "source": [
        "plt.figure(figsize=(7,5))\n",
        "ax = sns.scatterplot(x='test_1', y='test_2', hue='label', data=df2, style='label', s=80)\n",
        "handles, labels = ax.get_legend_handles_labels()\n",
        "ax.legend(handles[1:], ['accepted', 'rejected'])\n",
        "plt.title('Scatter plot of training data')\n",
        "plt.show(ax)"
      ]
    },
    {
      "cell_type": "markdown",
      "metadata": {
        "id": "25_ZVPtk87r1"
      },
      "source": [
        "### 2.2 Feature Mapping\n",
        "\n",
        "> One way to fit the data better is to create more features from each data point. We will map the features into all polynomial terms of $x_1$ and $x_2$ up to the sixth power. As a result of this mapping, our vector of two features (the scores on two QA tests) has been transformed into a 28-dimensional vector. A logistic regression classifier trained on this higher-dimension feature vector will have a more complex decision boundary and will appear nonlinear when drawn in our 2-dimensional plot."
      ]
    },
    {
      "cell_type": "code",
      "execution_count": null,
      "metadata": {
        "id": "VZqr-oL887r1"
      },
      "outputs": [],
      "source": [
        "def map_feature(X1, X2, degree):\n",
        "    X1 = np.array(X1).reshape(-1,1)\n",
        "    X2 = np.array(X2).reshape(-1,1)\n",
        "\n",
        "    out = np.ones((X1.shape[0], 1))\n",
        "    for i in range(1, degree+1):\n",
        "        for j in range(0, i+1):\n",
        "            p = (X1**(i-j)) * (X2**j)\n",
        "            out = np.append(out, p, axis=1)\n",
        "    return out"
      ]
    },
    {
      "cell_type": "code",
      "execution_count": null,
      "metadata": {
        "id": "d9fnx97e87r1"
      },
      "outputs": [],
      "source": [
        "X_p = map_feature(df2.test_1.values, df2.test_2.values, 6)\n",
        "X_p.shape"
      ]
    },
    {
      "cell_type": "markdown",
      "metadata": {
        "id": "QvkEJrDj87r4"
      },
      "source": [
        "### 2.3 Cost Function and Gradient\n",
        "\n",
        "Regularized cost function in logistic regression:\n",
        "\n",
        "$$J(\\theta) = -\\frac{1}{m}\\sum_{i=1}^m[y^i log(h_\\theta(x^i))+(1-y^i)log(1-h_\\theta(x^i))] + \\frac{\\lambda}{2m} \\sum_{j=1}^n\\theta_j^2$$\n",
        "\n",
        "Gradient:\n",
        "\n",
        "$$\\frac{\\partial J(\\theta)}{\\partial \\theta_0} = \\frac{1}{m} \\sum_{i=1}^m (h_\\theta(x^{(i)} - y^{(i)})\\cdot x_j^{(i)} \\ \\text{for j=0}$$\n",
        "\n",
        "$$\\frac{\\partial J(\\theta)}{\\partial \\theta_0} = (\\frac{1}{m} \\sum_{i=1}^m (h_\\theta(x^{(i)} - y^{(i)})\\cdot x_j^{(i)}) + \\frac{\\lambda}{m}\\theta_j \\ \\text{for j$\\ge$1}$$"
      ]
    },
    {
      "cell_type": "code",
      "execution_count": null,
      "metadata": {
        "id": "5bkK3MmU87r4"
      },
      "outputs": [],
      "source": [
        "def cost_function_reg(theta, X, y, lambda_reg):\n",
        "    m = y.shape[0]\n",
        "    theta = theta[:, np.newaxis]\n",
        "    h = sigmoid(X.dot(theta))\n",
        "    J = (1/m) * (-np.dot(y.T, np.log(h)) - np.dot((1-y).T, np.log(1-h))) + (lambda_reg/(2*m)) * np.sum(theta[1:]**2)\n",
        "\n",
        "    diff_hy = h - y\n",
        "    grad = (1/m) * np.dot(diff_hy.T,X) + ((lambda_reg/m) * theta.T)\n",
        "    grad[0, 0] = (1/m) * np.dot(diff_hy.T,X[:, 0])\n",
        "\n",
        "    return J, grad"
      ]
    },
    {
      "cell_type": "markdown",
      "metadata": {
        "id": "5jzfys6-87r4"
      },
      "source": [
        "#### 2.3.1 Learning Parameters"
      ]
    },
    {
      "cell_type": "code",
      "execution_count": null,
      "metadata": {
        "id": "CIyz-TN087r4"
      },
      "outputs": [],
      "source": [
        "import scipy.optimize as opt\n",
        "def optimize_theta_reg(X, y, initial_theta, lambda_reg):\n",
        "    opt_results = opt.minimize(cost_function_reg, initial_theta, args=(X, y, lambda_reg), method='TNC', jac=True, options={'maxiter':400})\n",
        "    return opt_results['x'], opt_results['fun']"
      ]
    },
    {
      "cell_type": "code",
      "execution_count": null,
      "metadata": {
        "id": "LfrzrW6F87r4"
      },
      "outputs": [],
      "source": [
        "m = df.shape[0]\n",
        "X = X_p\n",
        "y = np.array(df2.label.values).reshape(-1,1)\n",
        "initial_theta = np.zeros(shape=(X.shape[1]))"
      ]
    },
    {
      "cell_type": "code",
      "execution_count": null,
      "metadata": {
        "id": "JZbxEzr587r4"
      },
      "outputs": [],
      "source": [
        "lambda_reg = 1\n",
        "cost, grad = cost_function_reg(initial_theta, X, y, lambda_reg)\n",
        "print('Cost at initial theta (zeros):', cost)\n",
        "print('Gradient at initial theta (zeros) - top 5:')\n",
        "print(grad.T[:5])\n"
      ]
    },
    {
      "cell_type": "code",
      "execution_count": null,
      "metadata": {
        "id": "8_PypoFp87r4"
      },
      "outputs": [],
      "source": [
        "lambda_reg = 10\n",
        "initial_theta = np.ones(shape=(X.shape[1]))\n",
        "cost, grad = cost_function_reg(initial_theta, X, y, lambda_reg)\n",
        "print('Cost at initial theta:', cost)\n",
        "print('Gradient at theta - top 5:')\n",
        "print(grad.T[:5])\n"
      ]
    },
    {
      "cell_type": "markdown",
      "metadata": {
        "id": "AlYA7sHX87r4"
      },
      "source": [
        "### 2.4 Plotting the Decision Boundary"
      ]
    },
    {
      "cell_type": "code",
      "execution_count": null,
      "metadata": {
        "id": "RR3mjd3Z87r5"
      },
      "outputs": [],
      "source": [
        "lambda_reg = [1, 10, 100, 0]\n",
        "fig, axs = plt.subplots(nrows=1, ncols=4, figsize=(15,4))\n",
        "u = np.linspace(-1, 1.5, 50)\n",
        "v = np.linspace(-1, 1.5, 50)\n",
        "\n",
        "for il, l in enumerate(lambda_reg):\n",
        "    theta_opt, cost = optimize_theta_reg(X, y, initial_theta, l)\n",
        "    z = np.zeros((u.shape[0], v.shape[0]))\n",
        "    for i in range(len(u)):\n",
        "        for j in range(len(v)):\n",
        "            z[i,j] = map_feature(u[i], v[j], 6).dot(theta_opt)\n",
        "\n",
        "    sns.scatterplot(x='test_1', y='test_2', hue='label', data=df2, style='label', s=80, ax=axs[il])\n",
        "\n",
        "    axs[il].contour(u, v, z.T, levels=[0], colors='green')\n",
        "    axs[il].set_title('$\\lambda={}$'.format(l))\n",
        "fig.tight_layout()\n",
        "plt.show()"
      ]
    },
    {
      "cell_type": "markdown",
      "metadata": {
        "id": "zRQXELc887r5"
      },
      "source": [
        "### 2.5 Accuracy on Training Set"
      ]
    },
    {
      "cell_type": "code",
      "execution_count": null,
      "metadata": {
        "id": "FYcAY4H487r5"
      },
      "outputs": [],
      "source": [
        "lambda_reg = 1\n",
        "theta, cost = optimize_theta_reg(X, y, initial_theta, lambda_reg)\n",
        "theta"
      ]
    },
    {
      "cell_type": "code",
      "execution_count": null,
      "metadata": {
        "id": "muky59ly87r5"
      },
      "outputs": [],
      "source": [
        "y_pred_prob = predict(X, theta)\n",
        "f'Train accuracy: {np.mean(y_pred_prob == df2.label.values) * 100}'"
      ]
    },
    {
      "cell_type": "markdown",
      "metadata": {
        "id": "hnbR12V187r5"
      },
      "source": [
        "### 2.6 Equivalent Code using Scikit-Learn:"
      ]
    },
    {
      "cell_type": "code",
      "execution_count": null,
      "metadata": {
        "id": "lHYuC9Dl87r5"
      },
      "outputs": [],
      "source": [
        "from sklearn.linear_model import LogisticRegression\n",
        "log_reg = LogisticRegression(solver='newton-cg', max_iter=400)\n",
        "log_reg.fit(X[:,1:], df2.label.values)"
      ]
    },
    {
      "cell_type": "code",
      "execution_count": null,
      "metadata": {
        "id": "38BriT9S87r5"
      },
      "outputs": [],
      "source": [
        "log_reg.intercept_, log_reg.coef_"
      ]
    },
    {
      "cell_type": "code",
      "execution_count": null,
      "metadata": {
        "id": "r39zCuTN87r5"
      },
      "outputs": [],
      "source": [
        "log_reg.score(X[:,1:], df2.label.values)"
      ]
    }
  ],
  "metadata": {
    "kernelspec": {
      "display_name": "Python 3",
      "name": "python3"
    },
    "language_info": {
      "codemirror_mode": {
        "name": "ipython",
        "version": 3
      },
      "file_extension": ".py",
      "mimetype": "text/x-python",
      "name": "python",
      "nbconvert_exporter": "python",
      "pygments_lexer": "ipython3",
      "version": "3.11.5"
    },
    "colab": {
      "provenance": [],
      "gpuType": "V28"
    },
    "accelerator": "TPU"
  },
  "nbformat": 4,
  "nbformat_minor": 0
}